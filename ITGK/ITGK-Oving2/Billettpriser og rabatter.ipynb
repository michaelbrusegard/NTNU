{
 "cells": [
  {
   "cell_type": "markdown",
   "metadata": {},
   "source": [
    "<nav class=\"navbar navbar-default\">\n",
    "  <div class=\"container-fluid\">\n",
    "    <div class=\"navbar-header\">\n",
    "      <a class=\"navbar-brand\" href=\"_Oving2.ipynb\">Øving 2</a>\n",
    "    </div>\n",
    "    <ul class=\"nav navbar-nav\">\n",
    "    <li><a href=\"Ulike%20typer%20if-setninger.ipynb\">Ulike typer if-setninger</a></li>\n",
    "    <li><a href=\"Sammenligning%20av%20strenger.ipynb\">Sammenligning av strenger</a></li>\n",
    "    <li><a href=\"Logiske%20operatorer%20og%20logiske%20uttrykk.ipynb\">Logiske operatorer og logiske uttrykk</a></li>\n",
    "    <li><a href=\"Forbrytelse%20og%20straff.ipynb\">Forbrytelse og straff</a></li>\n",
    "    <li><a href=\"Aarstider.ipynb\">Årstider</a></li>\n",
    "        <li ><a href=\"Tekstbasert%20spill.ipynb\">Tekstbasert spill</a></li>\n",
    "    <li><a href=\"Sjakkbrett.ipynb\">Sjakkbrett</a></li>\n",
    "    <li class=\"active\"><a href=\"Billettpriser%20og%20rabatter.ipynb\">Billettpriser og rabatter</a></li>\n",
    "    <li><a href=\"Skatteetaten.ipynb\">Skatteetaten</a></li>\n",
    "    <li><a href=\"Epletigging.ipynb\">Datamaskinen som tigget epler</a></li>\n",
    "    <li><a href=\"Andregradsligning.ipynb\">Andregradsligning</a></li>\n",
    "    </ul>\n",
    "  </div>\n",
    "</nav>\n",
    "\n",
    "# Billettpriser og rabatter\n",
    "\n",
    "**Læringsmål:**\n",
    "\n",
    "* Betingelser\n",
    "\n",
    "**Starting Out with Python:**\n",
    "\n",
    "* Kap 3.1, 3.2, 3.4\n",
    "\n",
    "I denne oppgaven skal du bruke betingelser (if-elif-else) til å bestemme billettprisen til en bruker basert på input fra brukeren. \n",
    "\n",
    "Transportselskapet «TravelevatoR» tilbyr reiser fra Trondheim til Pythonville. Ved bestilling minst 14 dager før man skal reise, kan man få minipris 199. Normal billett koster 440. "
   ]
  },
  {
   "cell_type": "markdown",
   "metadata": {
    "deletable": false,
    "editable": false,
    "run_control": {
     "frozen": true
    }
   },
   "source": [
    "### a)"
   ]
  },
  {
   "cell_type": "markdown",
   "metadata": {
    "deletable": false,
    "editable": false,
    "run_control": {
     "frozen": true
    }
   },
   "source": [
    "Skriv et program med to mulige oppførsler som vist under:\n",
    "\n",
    "  \n",
    "```python\n",
    "Dager til du skal reise? 15  \n",
    "Du kan få minipris: 199,-  \n",
    ">>>  \n",
    "Dager til du skal reise? 8  \n",
    "For sent for minipris; fullpris 440,-  \n",
    "```\n",
    "***Skriv koden din under***"
   ]
  },
  {
   "cell_type": "code",
   "execution_count": 2,
   "metadata": {
    "ExecuteTime": {
     "end_time": "2019-07-02T08:22:50.607851Z",
     "start_time": "2019-07-02T08:22:50.600802Z"
    }
   },
   "outputs": [
    {
     "name": "stdout",
     "output_type": "stream",
     "text": [
      "Du kan få minipris: 199,- kan ikke refunderes/endres\n",
      "Prisen på biletten blir: 330,-\n"
     ]
    }
   ],
   "source": [
    "dager = int(input('Dager til du skal reise? '))\n",
    "if dager >= 14:\n",
    "    print('Du kan få minipris: 199,- kan ikke refunderes/endres')\n",
    "    onsk = input('Ønskes dette (J/N)? ').lower()\n",
    "    if onsk == 'j':\n",
    "        print('Takk for pengene, god reise!')\n",
    "    else:\n",
    "        alder = int(input('Skriv inn din alder: '))\n",
    "        spesiell = input('Er du student, militær i uniform eller senior (60+) (J/N)? ').lower()\n",
    "        if alder <= 16:\n",
    "            print('Prisen på biletten blir: 220,-')\n",
    "        elif spesiell == 'j':\n",
    "            print('Prisen på biletten blir: 330,-')\n",
    "        else:\n",
    "            print('Da tilbyr vi fullpris: 440,-')\n",
    "else:\n",
    "    print('For sent for minipris; fullpris 440,-')"
   ]
  },
  {
   "cell_type": "markdown",
   "metadata": {
    "deletable": false,
    "editable": false,
    "run_control": {
     "frozen": true
    }
   },
   "source": [
    "### b)"
   ]
  },
  {
   "cell_type": "markdown",
   "metadata": {
    "deletable": false,
    "editable": false,
    "run_control": {
     "frozen": true
    }
   },
   "source": [
    "Det hender av og til at kunder ikke ønsker minipris, men heller vil ha fullprisbillett. Dette fordi minipris ikke kan refunderes / endres. Utvid derfor programmet så kunder spørres om de ønsker minipris – men kun der det er relevant. To eksempel på kjøring etter utvidelsen:\n",
    "\n",
    "  \n",
    "```python\n",
    "Dager til du skal reise? 17\n",
    "Minipris 199,- kan ikke refunderes/endres\n",
    "Ønskes dette (J/N)? J\n",
    "Takk for pengene, god reise!\n",
    "```\n",
    "  \n",
    "```python\n",
    "Dager til du skal reise? 17\n",
    "Minipris 199,- kan ikke refunderes/endres\n",
    "Ønskes dette (J/N)? N\n",
    "Da tilbyr vi fullpris: 440,-\n",
    "```"
   ]
  },
  {
   "cell_type": "markdown",
   "metadata": {
    "deletable": false,
    "editable": false,
    "run_control": {
     "frozen": true
    }
   },
   "source": [
    "### c)"
   ]
  },
  {
   "cell_type": "markdown",
   "metadata": {
    "deletable": false,
    "editable": false,
    "run_control": {
     "frozen": true
    }
   },
   "source": [
    "Det blir besluttet at barn under 16 gis 50% rabatt. Senior (60+), militær i uniform, og student gis 25% rabatt. Om man f.eks. både er 60+ og militær / student, får man likevel bare 25% rabatt. Alle disse rabattene gjelder kun i forhold til fullpris, for minipris gis ingen rabatter. Endre programmet så det spør kunden om alder, evt. også om student / militær, og regner ut riktig pris.\n",
    "\n",
    "**NB:** De nye spørsmålene skal ***kun*** stilles når de er relevante, da det er et mål at kunden skal måtte svare på så få spørsmål som mulig.\n",
    "\n",
    "Eksempel på kjøring av koden:\n",
    "\n",
    "  \n",
    "```python\n",
    "Dager til du skal reise? 17\n",
    "Minipris 199,- kan ikke refunderes/endres\n",
    "Ønskes dette (J/N)? N\n",
    "Skriv inn din alder: 15\n",
    "Prisen på biletten blir: 220,-\n",
    "```"
   ]
  },
  {
   "cell_type": "markdown",
   "metadata": {
    "deletable": false,
    "editable": false,
    "run_control": {
     "frozen": true
    }
   },
   "source": [
    "### d) Valgfri oppgave"
   ]
  },
  {
   "cell_type": "markdown",
   "metadata": {
    "deletable": false,
    "editable": false,
    "run_control": {
     "frozen": true
    }
   },
   "source": [
    "Du får godkjent oppgaven om du bare har klart a, b og delvis c, men prøv gjerne på denne litt vanskeligere d også.\n",
    "\n",
    "Etter lobbyvirksomhet fra studentorganisasjoner endres reglene på følgende måte: Studenter får også litt rabatt på miniprisbilletter (10%),  samt at personer som både er studenter og militære  / 60+, eller studenter og barn, får to rabatter, og dermed bare betaler 0,75 * 0,75 eller 0.75 * 0.5 av fullpris. Merk at personer som er 60+ og militære, men ikke studenter, eller barn og militære, men ikke studenter, ikke får noen slik multiplisert rabatt, de må fortsatt nøye seg med den ene rabatten de hadde før, og de vanlige 199 for minipris. Endre programmet så det fungerer korrekt i forhold til de nye reglene."
   ]
  }
 ],
 "metadata": {
  "kernelspec": {
   "display_name": "Python 3.10.6 64-bit ('3.10.6')",
   "language": "python",
   "name": "python3"
  },
  "language_info": {
   "codemirror_mode": {
    "name": "ipython",
    "version": 3
   },
   "file_extension": ".py",
   "mimetype": "text/x-python",
   "name": "python",
   "nbconvert_exporter": "python",
   "pygments_lexer": "ipython3",
   "version": "3.10.6"
  },
  "toc": {
   "base_numbering": 1,
   "nav_menu": {},
   "number_sections": false,
   "sideBar": true,
   "skip_h1_title": false,
   "title_cell": "Table of Contents",
   "title_sidebar": "Contents",
   "toc_cell": false,
   "toc_position": {},
   "toc_section_display": true,
   "toc_window_display": false
  },
  "vscode": {
   "interpreter": {
    "hash": "2000c87707d1ad695940156d2e786a753f54cfe38282b555acc79436bfa327af"
   }
  }
 },
 "nbformat": 4,
 "nbformat_minor": 2
}
