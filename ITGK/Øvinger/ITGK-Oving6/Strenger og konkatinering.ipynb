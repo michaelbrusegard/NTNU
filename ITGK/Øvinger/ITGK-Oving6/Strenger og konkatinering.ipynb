{
 "cells": [
  {
   "cell_type": "markdown",
   "metadata": {
    "deletable": false,
    "editable": false,
    "run_control": {
     "frozen": true
    }
   },
   "source": [
    "<nav class=\"navbar navbar-default\">\n",
    "  <div class=\"container-fluid\">\n",
    "    <div class=\"navbar-header\">\n",
    "      <a class=\"navbar-brand\" href=\"_Oving6.ipynb\">Øving 6</a>\n",
    "    </div>\n",
    "    <ul class=\"nav navbar-nav\">\n",
    "    <li ><a href=\"Aksessering.ipynb\">Aksessering av karakter</a></li>\n",
    "    <li class=\"active\"><a href=\"Strenger%20og%20konkatinering.ipynb\">Konkatinering</a></li>\n",
    "    <li ><a href=\"Slicing.ipynb\">Slicing</a></li>\n",
    "    <li ><a href=\"Tekstbehandling.ipynb\">Tekstbehandling</a></li>\n",
    "    <li ><a href=\"Strenghandtering.ipynb\">Strenghåndtering</a></li>\n",
    "    <li ><a href=\"Innebygde%20funksjoner.ipynb\">Innebygde funksjoner og lister</a></li>\n",
    "    <li><a href=\"Fjesboka.ipynb\">Fjesboka</a></li>\n",
    "    <li ><a href=\"Akkorder%20og%20toner.ipynb\">Akkorder og toner</a></li>\n",
    "    <li ><a href=\"Ideel%20gasslov.ipynb\">Ideel Gasslov</a></li>\n",
    "    <li><a href=\"Sammenhengende%20tallrekke.ipynb\">Sammenhengende Tallrekke</a></li>\n",
    "    <li ><a href=\"Sortering.ipynb\">Sortering</a></li>\n",
    "    <li ><a href=\"Strengmanipulasjon.ipynb\">Strengmanipulasjon</a></li>\n",
    "    <li ><a href=\"Kryptering.ipynb\">Kryptering</a></li>\n",
    "    <li ><a href=\"Litt%20sjakk.ipynb\">Litt Sjakk</a></li>\n",
    "    </ul>\n",
    "  </div>\n",
    "</nav>\n",
    "\n",
    "# Strenger og konkatinering\n",
    "\n",
    "**Læringsmål:**\n",
    "\n",
    "* Strenger\n",
    "* Løkker\n",
    "* Funksjoner\n",
    "* Lister\n",
    "\n",
    "**Starting Out with Python:**\n",
    "\n",
    "* Kap. 7.2\n",
    "* Kap. 8.1"
   ]
  },
  {
   "cell_type": "markdown",
   "metadata": {
    "deletable": false,
    "editable": false,
    "heading_collapsed": true,
    "run_control": {
     "frozen": true
    }
   },
   "source": [
    "### Kort om konkatinering"
   ]
  },
  {
   "cell_type": "markdown",
   "metadata": {
    "deletable": false,
    "editable": false,
    "hidden": true,
    "run_control": {
     "frozen": true
    }
   },
   "source": [
    "Konkatinering er å tilføye en streng ved slutten av en annen streng. Dette gjøres enten vha. + eller +=. For å bruke += må variabelen på venstre side av += være en allerede eksisterende variabel. Kjør eksemplene under og se om du skjønner hvordan de virker. Du må gjerne endre eksemplene og kjøre de igjen."
   ]
  },
  {
   "cell_type": "code",
   "execution_count": 1,
   "metadata": {
    "ExecuteTime": {
     "end_time": "2019-07-03T12:09:10.412280Z",
     "start_time": "2019-07-03T12:09:10.013418Z"
    },
    "hidden": true
   },
   "outputs": [
    {
     "name": "stdout",
     "output_type": "stream",
     "text": [
      "Hei der\n"
     ]
    }
   ],
   "source": [
    "# eksempel 1\n",
    "# Bruk av +\n",
    "melding = \"Hei \" + \"der\"\n",
    "print(melding)"
   ]
  },
  {
   "cell_type": "code",
   "execution_count": 2,
   "metadata": {
    "ExecuteTime": {
     "end_time": "2019-07-03T12:09:10.412280Z",
     "start_time": "2019-07-03T12:09:10.013418Z"
    },
    "hidden": true
   },
   "outputs": [
    {
     "name": "stdout",
     "output_type": "stream",
     "text": [
      "Hei der\n"
     ]
    }
   ],
   "source": [
    "# eksempel 2\n",
    "s1 = \"Hei\"\n",
    "s2 = \"der\"\n",
    "melding1 = s1 + \" \" + s2\n",
    "print(melding1)"
   ]
  },
  {
   "cell_type": "code",
   "execution_count": 3,
   "metadata": {
    "ExecuteTime": {
     "end_time": "2019-07-03T12:09:10.412280Z",
     "start_time": "2019-07-03T12:09:10.013418Z"
    },
    "hidden": true
   },
   "outputs": [
    {
     "name": "stdout",
     "output_type": "stream",
     "text": [
      "Bob Bernt\n"
     ]
    }
   ],
   "source": [
    "# eksempel 3\n",
    "# Bruk av +=\n",
    "navn = \"Bob\"\n",
    "navn += \" \" + \"Bernt\"\n",
    "print(navn)"
   ]
  },
  {
   "cell_type": "code",
   "execution_count": 4,
   "metadata": {
    "ExecuteTime": {
     "end_time": "2019-07-03T12:09:10.412280Z",
     "start_time": "2019-07-03T12:09:10.013418Z"
    },
    "hidden": true
   },
   "outputs": [
    {
     "name": "stdout",
     "output_type": "stream",
     "text": [
      "Geralt of Rivia \n"
     ]
    }
   ],
   "source": [
    "# eksempel 4\n",
    "liste = [\"Geralt\",\"of\",\"Rivia\"]\n",
    "navn2 = \"\"\n",
    "for streng in liste:\n",
    "    navn2 += streng + \" \"\n",
    "print(navn2)"
   ]
  },
  {
   "cell_type": "code",
   "execution_count": 5,
   "metadata": {
    "ExecuteTime": {
     "end_time": "2019-07-03T12:09:10.412280Z",
     "start_time": "2019-07-03T12:09:10.013418Z"
    },
    "hidden": true
   },
   "outputs": [
    {
     "ename": "NameError",
     "evalue": "name 'navnet' is not defined",
     "output_type": "error",
     "traceback": [
      "\u001b[0;31m---------------------------------------------------------------------------\u001b[0m",
      "\u001b[0;31mNameError\u001b[0m                                 Traceback (most recent call last)",
      "\u001b[1;32m/Users/michaelbrusegard/Documents/GitLab/ITGK-Oving6/Strenger og konkatinering.ipynb Cell 8\u001b[0m in \u001b[0;36m<cell line: 4>\u001b[0;34m()\u001b[0m\n\u001b[1;32m      <a href='vscode-notebook-cell:/Users/michaelbrusegard/Documents/GitLab/ITGK-Oving6/Strenger%20og%20konkatinering.ipynb#X10sZmlsZQ%3D%3D?line=0'>1</a>\u001b[0m \u001b[39m# eksempel 5\u001b[39;00m\n\u001b[1;32m      <a href='vscode-notebook-cell:/Users/michaelbrusegard/Documents/GitLab/ITGK-Oving6/Strenger%20og%20konkatinering.ipynb#X10sZmlsZQ%3D%3D?line=1'>2</a>\u001b[0m \u001b[39m# Vil utløse et unntak (exception) siden variabelen navnet ikke eksisterer fra før.\u001b[39;00m\n\u001b[1;32m      <a href='vscode-notebook-cell:/Users/michaelbrusegard/Documents/GitLab/ITGK-Oving6/Strenger%20og%20konkatinering.ipynb#X10sZmlsZQ%3D%3D?line=2'>3</a>\u001b[0m \u001b[39m# Unntaket som utløses vil være NameError\u001b[39;00m\n\u001b[0;32m----> <a href='vscode-notebook-cell:/Users/michaelbrusegard/Documents/GitLab/ITGK-Oving6/Strenger%20og%20konkatinering.ipynb#X10sZmlsZQ%3D%3D?line=3'>4</a>\u001b[0m navnet \u001b[39m+\u001b[39m\u001b[39m=\u001b[39m \u001b[39m\"\u001b[39m\u001b[39mBob\u001b[39m\u001b[39m\"\u001b[39m\n",
      "\u001b[0;31mNameError\u001b[0m: name 'navnet' is not defined"
     ]
    }
   ],
   "source": [
    "# eksempel 5\n",
    "# Vil utløse et unntak (exception) siden variabelen navnet ikke eksisterer fra før.\n",
    "# Unntaket som utløses vil være NameError\n",
    "navnet += \"Bob\"       "
   ]
  },
  {
   "cell_type": "markdown",
   "metadata": {
    "deletable": false,
    "editable": false,
    "run_control": {
     "frozen": true
    }
   },
   "source": [
    "### a)"
   ]
  },
  {
   "cell_type": "markdown",
   "metadata": {
    "deletable": false,
    "editable": false,
    "run_control": {
     "frozen": true
    }
   },
   "source": [
    "Skriv en funksjon som tar inn to strenger (s1 og s2), og returnerer én streng bestående av disse med et mellomrom mellom.\n",
    "\n",
    "**Eksempel**:\n",
    "```python\n",
    "#s1 = \"James\", s2 = \"Bond\"\n",
    "-> James Bond\n",
    "```\n",
    "\n",
    "***Skriv koden din i kodeblokken under:***"
   ]
  },
  {
   "cell_type": "code",
   "execution_count": 1,
   "metadata": {},
   "outputs": [
    {
     "name": "stdout",
     "output_type": "stream",
     "text": [
      "James Bond\n"
     ]
    }
   ],
   "source": [
    "def slump(s1, s2):\n",
    "    return s1 + \" \" + s2\n",
    "\n",
    "print(slump('James', 'Bond'))"
   ]
  },
  {
   "cell_type": "markdown",
   "metadata": {
    "deletable": false,
    "editable": false,
    "run_control": {
     "frozen": true
    }
   },
   "source": [
    "### b)"
   ]
  },
  {
   "cell_type": "markdown",
   "metadata": {
    "ExecuteTime": {
     "end_time": "2019-07-03T12:18:08.171134Z",
     "start_time": "2019-07-03T12:18:08.159623Z"
    },
    "deletable": false,
    "editable": false,
    "run_control": {
     "frozen": true
    }
   },
   "source": [
    "Skriv en funksjon som tar inn en liste av strenger, og returnerer én streng bestående av disse uten mellomrom mellom dem.\n",
    "\n",
    "**Eksempel på kjøring:**\n",
    "```python\n",
    "#list = [\"abc\",\"defg\",\"hijklm\",\"nop\"]\n",
    "-> abcdefghijklmnop\n",
    "```\n",
    "\n",
    "***Skriv koden din i kodeblokken under:***"
   ]
  },
  {
   "cell_type": "code",
   "execution_count": 2,
   "metadata": {},
   "outputs": [
    {
     "name": "stdout",
     "output_type": "stream",
     "text": [
      "abcdefghijklmnop\n"
     ]
    }
   ],
   "source": [
    "list = [\"abc\",\"defg\",\"hijklm\",\"nop\"]\n",
    "\n",
    "def combinator(list):\n",
    "    str = \"\"\n",
    "    for element in list:\n",
    "        str += element\n",
    "    return str\n",
    "\n",
    "print(combinator(list))\n"
   ]
  },
  {
   "cell_type": "markdown",
   "metadata": {
    "deletable": false,
    "editable": false,
    "heading_collapsed": true,
    "run_control": {
     "frozen": true
    }
   },
   "source": [
    "### Ikke-muterbarhet"
   ]
  },
  {
   "cell_type": "markdown",
   "metadata": {
    "deletable": false,
    "editable": false,
    "hidden": true,
    "run_control": {
     "frozen": true
    }
   },
   "source": [
    "Strenger er ikke-muterbare, som vil si at man ikke kan endre på deler av strengen uten å lage en ny streng. Konkatinering kan gi inntrykket av å endre på en streng, mens det egentlig opprettes en ny en."
   ]
  },
  {
   "cell_type": "code",
   "execution_count": 9,
   "metadata": {
    "hidden": true
   },
   "outputs": [],
   "source": [
    "navn = \"Bob\"        # tilordner strengen \"Bob\" til variabelen navn\n",
    "navn += \" Bernt\"    # tilordner en NY streng \"Bob Bernt\" til variabelen navn"
   ]
  },
  {
   "cell_type": "markdown",
   "metadata": {
    "deletable": false,
    "editable": false,
    "hidden": true,
    "run_control": {
     "frozen": true
    }
   },
   "source": [
    "Siden strenger er ikke-muterbare, betyr det at man ikke kan endre på enkelte karakterer i strengen. Altså kan man ikke skrive string[index] = \"c\"."
   ]
  },
  {
   "cell_type": "code",
   "execution_count": 10,
   "metadata": {
    "hidden": true
   },
   "outputs": [
    {
     "ename": "TypeError",
     "evalue": "'str' object does not support item assignment",
     "output_type": "error",
     "traceback": [
      "\u001b[0;31m---------------------------------------------------------------------------\u001b[0m",
      "\u001b[0;31mTypeError\u001b[0m                                 Traceback (most recent call last)",
      "\u001b[1;32m/Users/michaelbrusegard/Documents/GitLab/ITGK-Oving6/Strenger og konkatinering.ipynb Cell 19\u001b[0m in \u001b[0;36m<cell line: 2>\u001b[0;34m()\u001b[0m\n\u001b[1;32m      <a href='vscode-notebook-cell:/Users/michaelbrusegard/Documents/GitLab/ITGK-Oving6/Strenger%20og%20konkatinering.ipynb#X24sZmlsZQ%3D%3D?line=0'>1</a>\u001b[0m navn \u001b[39m=\u001b[39m \u001b[39m\"\u001b[39m\u001b[39mBob Bernt\u001b[39m\u001b[39m\"\u001b[39m\n\u001b[0;32m----> <a href='vscode-notebook-cell:/Users/michaelbrusegard/Documents/GitLab/ITGK-Oving6/Strenger%20og%20konkatinering.ipynb#X24sZmlsZQ%3D%3D?line=1'>2</a>\u001b[0m navn[\u001b[39m0\u001b[39;49m] \u001b[39m=\u001b[39m \u001b[39m\"\u001b[39m\u001b[39mH\u001b[39m\u001b[39m\"\u001b[39m\n",
      "\u001b[0;31mTypeError\u001b[0m: 'str' object does not support item assignment"
     ]
    }
   ],
   "source": [
    "navn = \"Bob Bernt\"\n",
    "navn[0] = \"H\"       # IKKE MULIG!! Vil få utløst et unntak (prøv selv)"
   ]
  },
  {
   "cell_type": "markdown",
   "metadata": {
    "deletable": false,
    "editable": false,
    "hidden": true,
    "run_control": {
     "frozen": true
    }
   },
   "source": [
    "Om man ønsker å beholde store deler av en streng, men endre på enkelte deler av den, kan man bruke slicing til å opprette en ny streng med de ønskede endringene. Mer om slicing i neste oppgave."
   ]
  },
  {
   "cell_type": "markdown",
   "metadata": {
    "deletable": false,
    "editable": false,
    "run_control": {
     "frozen": true
    }
   },
   "source": [
    "### c)"
   ]
  },
  {
   "cell_type": "markdown",
   "metadata": {
    "deletable": false,
    "editable": false,
    "run_control": {
     "frozen": true
    }
   },
   "source": [
    "Skriv en funksjon som tar inn en liste med strenger og skriver ut den første karakteren i hver av dem.\n",
    "\n",
    "**Eksempel:**\n",
    "```python\n",
    "#list = [\"UKA\",\"lever\",\"videre\"]\n",
    "U\n",
    "l\n",
    "v\n",
    "```\n",
    "\n",
    "***Skriv koden din i kodeblokken under:***"
   ]
  },
  {
   "cell_type": "code",
   "execution_count": 3,
   "metadata": {},
   "outputs": [
    {
     "name": "stdout",
     "output_type": "stream",
     "text": [
      "U\n",
      "l\n",
      "v\n"
     ]
    }
   ],
   "source": [
    "list = [\"UKA\",\"lever\",\"videre\"]\n",
    "\n",
    "def firstch(ls):\n",
    "    for i in ls:\n",
    "        print(i[0])\n",
    "\n",
    "firstch(list)"
   ]
  },
  {
   "cell_type": "markdown",
   "metadata": {
    "deletable": false,
    "editable": false,
    "run_control": {
     "frozen": true
    }
   },
   "source": [
    "### d)"
   ]
  },
  {
   "cell_type": "markdown",
   "metadata": {
    "deletable": false,
    "editable": false,
    "run_control": {
     "frozen": true
    }
   },
   "source": [
    "Hva vil kodesnutten under skrive ut til skjerm?\n",
    "\n",
    ">```python\n",
    "def func1(liste):\n",
    "    streng = \"\"\n",
    "    for s in liste:\n",
    "        if len(s)>3:\n",
    "            streng += s[3]\n",
    "    return streng\n",
    "```\n",
    ">```python  \n",
    "def func2(streng):\n",
    "    streng += streng\n",
    "    return streng\n",
    "```\n",
    ">```python\n",
    "print(func2(func1([\"Klabert\",\"Oslo\",\"Tur\",\"stubbe\"])))\n",
    "```\n",
    "\n",
    "Dobbeltklikk på teksten under for å svare."
   ]
  },
  {
   "cell_type": "markdown",
   "metadata": {
    "ExecuteTime": {
     "end_time": "2019-07-03T12:26:09.541554Z",
     "start_time": "2019-07-03T12:26:09.530256Z"
    }
   },
   "source": [
    "**Svar:** bobbob"
   ]
  }
 ],
 "metadata": {
  "kernelspec": {
   "display_name": "Python 3.10.6 64-bit ('3.10.6')",
   "language": "python",
   "name": "python3"
  },
  "language_info": {
   "codemirror_mode": {
    "name": "ipython",
    "version": 3
   },
   "file_extension": ".py",
   "mimetype": "text/x-python",
   "name": "python",
   "nbconvert_exporter": "python",
   "pygments_lexer": "ipython3",
   "version": "3.10.6"
  },
  "toc": {
   "base_numbering": 1,
   "nav_menu": {},
   "number_sections": false,
   "sideBar": true,
   "skip_h1_title": false,
   "title_cell": "Table of Contents",
   "title_sidebar": "Contents",
   "toc_cell": false,
   "toc_position": {},
   "toc_section_display": true,
   "toc_window_display": false
  },
  "vscode": {
   "interpreter": {
    "hash": "2000c87707d1ad695940156d2e786a753f54cfe38282b555acc79436bfa327af"
   }
  }
 },
 "nbformat": 4,
 "nbformat_minor": 2
}
