{
 "cells": [
  {
   "cell_type": "markdown",
   "source": [
    "<nav class=\"navbar navbar-default\">\n",
    "  <div class=\"container-fluid\">\n",
    "    <div class=\"navbar-header\">\n",
    "      <a class=\"navbar-brand\" href=\"_Oving5.ipynb\">Øving 5</a>\n",
    "    </div>\n",
    "    <ul class=\"nav navbar-nav\">\n",
    "      <li ><a href=\"Generelt%20om%20lister.ipynb\">Generelt om lister</a></li>\n",
    "    <li ><a href=\"Lett%20og%20blandet.ipynb\">Lett og blandet</a></li>\n",
    "    <li ><a href=\"Kodeforstaelse.ipynb\">Kodeforståelse</a></li>\n",
    "    <li ><a href=\"Vektorer.ipynb\">Vektorer</a></li>\n",
    "    <li ><a href=\"Lister%20og%20lokker.ipynb\">Lister og løkker</a></li>\n",
    "    <li ><a href=\"Teoridelen%20paa%20eksamen.ipynb\">Teoridelen på eksamen</a></li>\n",
    "    <li ><a href=\"Gangetabell%20og%20lister.ipynb\">Gangetabell og lister</a></li>\n",
    "    <li ><a href=\"Lotto.ipynb\">Lotto</a></li>\n",
    "    <li ><a href=\"Tannfeen.ipynb\">Tannfeen</a></li>\n",
    "        <li ><a href=\"Chattebot.ipynb\">Chattebot</a></li>\n",
    "    <li class=\"active\"><a href=\"Matriseaddisjon.ipynb\">Matriseaddisjon</a></li>\n",
    "    </ul>\n",
    "  </div>\n",
    "</nav>\n",
    "\n",
    "# Matriseaddisjon\n",
    "\n",
    "**Læringsmål:**\n",
    "\n",
    "* Lister av flere dimensjoner\n",
    "\n",
    "**Starting Out with Python:**\n",
    "\n",
    "* Kap. 7.8\n",
    "\n",
    "I denne oppgaven skal du implementere noen funksjoner slik at to matriser blir skrevet ut på et fint format og addert med hverandre. \n",
    "\n",
    "En matrise er et godt eksempel på en todimensjonal liste av tall som har et bestemt antall rader x og et bestemt antall kolonner y. Du kan tenke på en matrise som en liste med x antall elementer, hvor hvert element er en liste av størrelse y. I denne oppgaven skal vi se på matriseaddisjon. I denne oppgaven definerer vi addisjon av to matriser på samme måte som med vektoraddisjon: dersom vi skal summere matrise a med b og kaller den nye matrisen for c, vil *c[x][y]* være *a[x][y]* + *b[x][y]*, hvor *c[x][y]* er elementet i matrisen c som befinner seg på rad *x* og kolonne *y*.\n",
    "\n",
    "Du får gitt en main-funksjon med følgende kode:"
   ],
   "metadata": {
    "deletable": false,
    "editable": false,
    "run_control": {
     "frozen": true
    }
   }
  },
  {
   "cell_type": "code",
   "execution_count": null,
   "source": [
    "def main():\n",
    "    A = random_matrise(4,3)\n",
    "    print_matrise(A, 'A')\n",
    "    B = random_matrise(3,4)\n",
    "    print_matrise(B, 'B')\n",
    "    C = random_matrise(3,4)\n",
    "    print_matrise(C, 'C')\n",
    "    D = matrise_addisjon(A,B)\n",
    "    E = matrise_addisjon(B,C)\n",
    "    print_matrise(E, 'B+C' )"
   ],
   "outputs": [],
   "metadata": {
    "ExecuteTime": {
     "end_time": "2019-07-03T11:03:43.356638Z",
     "start_time": "2019-07-03T11:03:43.345161Z"
    }
   }
  },
  {
   "cell_type": "markdown",
   "source": [
    "som, etter at du har gjort oppgaven, skal gi følgende utskrift:\n",
    "\n",
    "```python\n",
    "A=[\n",
    "   [1, 8, 4, 3]\n",
    "   [5, 1, 5, 8]\n",
    "   [9, 5, 8, 0]\n",
    "  ]\n",
    "B=[\n",
    "   [7, 3, 3]\n",
    "   [2, 1, 7]\n",
    "   [2, 2, 3]\n",
    "   [3, 5, 9]\n",
    "  ]\n",
    "C=[\n",
    "   [4, 4, 6]\n",
    "   [1, 9, 0]\n",
    "   [9, 8, 5]\n",
    "   [2, 9, 5]\n",
    "  ]\n",
    "Matrisene er ikke av samme dimensjon # A og B har ulike dimensjoner (ulikt antall rader og kolonner)\n",
    "B+C=[\n",
    "     [11, 7, 9]\n",
    "     [3, 10, 7]\n",
    "     [11, 10, 8]\n",
    "     [5, 14, 14]\n",
    "    ]\n",
    "    ```\n",
    "    \n",
    "    \n",
    "**Din oppgave**\n",
    "\n",
    "Implementer funksjonene `random_matrise(bredde, høyde)`, `print_matrise(matrise, navn)` og `matrise_addisjon(a, b)` slik at utskriften av `main()` gir utskriften over.\n",
    "\n",
    "1. Funksjonen `random_matrise(bredde, høyde)` skal returnere en matrise med *høyde* antall rader og *bredde* antall kolonner. Matrisen skal være fylt med tilfeldige tall fra og med 0 til 10. Bruk random-biblioteket.\n",
    "2. `print_matrise(matrise, navn)` skal printe ut matrisene på samme format som vist i utskriften over. \n",
    "3. `matrise_addisjon(a, b)` skal ta inn to matriser og returnere en matrise som er summen av a og b. Dersom to matriser er av ulik størrelse er det umulig å addere matrisene og \"Matrisene er ikke av samme dimensjon\" skal skrives ut. \n",
    "\n",
    "***Skriv koden din i boksen under.***"
   ],
   "metadata": {
    "ExecuteTime": {
     "end_time": "2019-07-03T11:03:58.395784Z",
     "start_time": "2019-07-03T11:03:58.385979Z"
    },
    "deletable": false,
    "editable": false,
    "run_control": {
     "frozen": true
    }
   }
  },
  {
   "cell_type": "code",
   "execution_count": null,
   "source": [],
   "outputs": [],
   "metadata": {}
  },
  {
   "cell_type": "markdown",
   "source": [
    "#### Hint"
   ],
   "metadata": {
    "deletable": false,
    "editable": false,
    "heading_collapsed": true,
    "run_control": {
     "frozen": true
    }
   }
  },
  {
   "cell_type": "markdown",
   "source": [
    "For å sjekke om to matriser er av samme dimensjon må du sjekke om de både har samme antall rader og samme antall kolonner. len(matrise) returnerer antall rader en matrise har, og len(matrise[0]) returnerer antall kolonner i matrisen."
   ],
   "metadata": {
    "deletable": false,
    "editable": false,
    "hidden": true,
    "run_control": {
     "frozen": true
    }
   }
  }
 ],
 "metadata": {
  "kernelspec": {
   "display_name": "Python 3",
   "language": "python",
   "name": "python3"
  },
  "language_info": {
   "codemirror_mode": {
    "name": "ipython",
    "version": 3
   },
   "file_extension": ".py",
   "mimetype": "text/x-python",
   "name": "python",
   "nbconvert_exporter": "python",
   "pygments_lexer": "ipython3",
   "version": "3.7.4"
  },
  "toc": {
   "base_numbering": 1,
   "nav_menu": {},
   "number_sections": false,
   "sideBar": true,
   "skip_h1_title": false,
   "title_cell": "Table of Contents",
   "title_sidebar": "Contents",
   "toc_cell": false,
   "toc_position": {},
   "toc_section_display": true,
   "toc_window_display": false
  }
 },
 "nbformat": 4,
 "nbformat_minor": 2
}