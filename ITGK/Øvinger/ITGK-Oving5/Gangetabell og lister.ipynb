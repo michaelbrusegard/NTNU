{
 "cells": [
  {
   "cell_type": "markdown",
   "source": [
    "<nav class=\"navbar navbar-default\">\n",
    "  <div class=\"container-fluid\">\n",
    "    <div class=\"navbar-header\">\n",
    "      <a class=\"navbar-brand\" href=\"_Oving5.ipynb\">Øving 5</a>\n",
    "    </div>\n",
    "    <ul class=\"nav navbar-nav\">\n",
    "      <li ><a href=\"Generelt%20om%20lister.ipynb\">Generelt om lister</a></li>\n",
    "    <li ><a href=\"Lett%20og%20blandet.ipynb\">Lett og blandet</a></li>\n",
    "    <li ><a href=\"Kodeforstaelse.ipynb\">Kodeforståelse</a></li>\n",
    "    <li ><a href=\"Vektorer.ipynb\">Vektorer</a></li>\n",
    "    <li ><a href=\"Lister%20og%20lokker.ipynb\">Lister og løkker</a></li>\n",
    "    <li ><a href=\"Teoridelen%20paa%20eksamen.ipynb\">Teoridelen på eksamen</a></li>\n",
    "    <li class=\"active\"><a href=\"Gangetabell%20og%20lister.ipynb\">Gangetabell og lister</a></li>\n",
    "    <li ><a href=\"Lotto.ipynb\">Lotto</a></li>\n",
    "    <li ><a href=\"Tannfeen.ipynb\">Tannfeen</a></li>\n",
    "        <li><a href=\"Chattebot.ipynb\">Chattebot</a></li>\n",
    "    <li ><a href=\"Matriseaddisjon.ipynb\">Matriseaddisjon</a></li>\n",
    "    </ul>\n",
    "  </div>\n",
    "</nav>\n",
    "\n",
    "# Gangetabell og lister\n",
    "\n",
    "**Læringsmål:**\n",
    "\n",
    "* Løkker\n",
    "* Lister\n",
    "\n",
    "**Starting Out with Python:**\n",
    "\n",
    "* Kap. 7: Lists and Tuples\n",
    "\n"
   ],
   "metadata": {
    "deletable": false,
    "editable": false,
    "run_control": {
     "frozen": true
    }
   }
  },
  {
   "cell_type": "markdown",
   "source": [
    "### a)"
   ],
   "metadata": {
    "deletable": false,
    "editable": false,
    "run_control": {
     "frozen": true
    }
   }
  },
  {
   "cell_type": "markdown",
   "source": [
    "Lag en funksjon separate(numbers, threshold) som tar inn to argumenter:\n",
    "\n",
    "* numbers: en liste med heltall\n",
    "* threshold: et heltall\n",
    "Funksjonen skal returnere to lister: den første listen skal inneholde alle elementer fra **numbers** som er mindre enn **threshold**, og den andre listen skal inneholde alle elementer fra **numbers** som er større enn eller lik **threshold**.\n",
    "\n",
    " \n",
    "En matrise er et rektangulært sett av elementer ordnet i rader og kolonner. Radene er de horisontale linjene, og kolonnene er de vertikale linjene.\n",
    "\n",
    "I Python representerer vi dette med lister som inneholder lister.  Elementet øverst til venstre i eksempelet under (med verdi 1) er i rad 1, kolonne 1."
   ],
   "metadata": {
    "deletable": false,
    "editable": false,
    "run_control": {
     "frozen": true
    }
   }
  },
  {
   "cell_type": "code",
   "execution_count": null,
   "source": [
    "matrise = [\n",
    "[1, 2, 3],\n",
    "[4, 5, 6],\n",
    "[7, 8, 9]]"
   ],
   "outputs": [],
   "metadata": {}
  },
  {
   "cell_type": "markdown",
   "source": [
    "Elementene i matrisen kan hentes ut på følgende måte: **matrise[radnr][kolnr]**. \n",
    "\n",
    "*Husk at radnummer og kolonnenummer er null-indeksert (begynner på 0) i Python i motsetning til matematisk notasjon der de er 1-indeksert!*\n",
    "\n",
    "***Skriv koden din i boksen under.***"
   ],
   "metadata": {
    "deletable": false,
    "editable": false,
    "run_control": {
     "frozen": true
    }
   }
  },
  {
   "cell_type": "code",
   "execution_count": null,
   "source": [],
   "outputs": [],
   "metadata": {}
  },
  {
   "cell_type": "markdown",
   "source": [
    "### b)"
   ],
   "metadata": {
    "deletable": false,
    "editable": false,
    "run_control": {
     "frozen": true
    }
   }
  },
  {
   "cell_type": "markdown",
   "source": [
    "Lag en funksjon **multiplication_table(n)** som tar inn et heltall n som parameter og returnerer gangetabellen fra 1 til n som en matrise med n rader og n kolonner.\n",
    "\n",
    "***Skriv koden din i boksen under.***"
   ],
   "metadata": {
    "deletable": false,
    "editable": false,
    "run_control": {
     "frozen": true
    }
   }
  },
  {
   "cell_type": "code",
   "execution_count": null,
   "source": [],
   "outputs": [],
   "metadata": {}
  },
  {
   "cell_type": "markdown",
   "source": [
    "Har du implementert funksjon riktig skal koden under printe følgende matrise:\n",
    "\n",
    "\n",
    "```\n",
    "[[1, 2, 3, 4],\n",
    " [2, 4, 6, 8],\n",
    " [3, 6, 9, 12],\n",
    " [4, 8, 12, 16]]\n",
    " ```"
   ],
   "metadata": {
    "deletable": false,
    "editable": false,
    "run_control": {
     "frozen": true
    }
   }
  },
  {
   "cell_type": "code",
   "execution_count": null,
   "source": [
    "print(multiplication_table(4))"
   ],
   "outputs": [],
   "metadata": {}
  },
  {
   "cell_type": "markdown",
   "source": [
    "#### Hint"
   ],
   "metadata": {
    "deletable": false,
    "editable": false,
    "heading_collapsed": true,
    "run_control": {
     "frozen": true
    }
   }
  },
  {
   "cell_type": "markdown",
   "source": [
    "Man kan legge til elementer (som også kan være lister) på slutten av en liste med **liste.append(element)**."
   ],
   "metadata": {
    "deletable": false,
    "editable": false,
    "hidden": true,
    "run_control": {
     "frozen": true
    }
   }
  }
 ],
 "metadata": {
  "kernelspec": {
   "display_name": "Python 3",
   "language": "python",
   "name": "python3"
  },
  "language_info": {
   "codemirror_mode": {
    "name": "ipython",
    "version": 3
   },
   "file_extension": ".py",
   "mimetype": "text/x-python",
   "name": "python",
   "nbconvert_exporter": "python",
   "pygments_lexer": "ipython3",
   "version": "3.7.4"
  },
  "toc": {
   "base_numbering": 1,
   "nav_menu": {},
   "number_sections": false,
   "sideBar": true,
   "skip_h1_title": false,
   "title_cell": "Table of Contents",
   "title_sidebar": "Contents",
   "toc_cell": false,
   "toc_position": {},
   "toc_section_display": true,
   "toc_window_display": false
  }
 },
 "nbformat": 4,
 "nbformat_minor": 2
}