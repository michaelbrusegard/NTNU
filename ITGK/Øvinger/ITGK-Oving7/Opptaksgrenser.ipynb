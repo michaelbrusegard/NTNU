{
 "cells": [
  {
   "cell_type": "markdown",
   "source": [
    "<nav class=\"navbar navbar-default\">\n",
    "  <div class=\"container-fluid\">\n",
    "    <div class=\"navbar-header\">\n",
    "      <a class=\"navbar-brand\" href=\"_Oving7.ipynb\">Øving 7</a>\n",
    "    </div>\n",
    "    <ul class=\"nav navbar-nav\">\n",
    "    <li ><a href=\"Generelt%20om%20dictionary.ipynb\">Generelt om dictionary</a></li>\n",
    "    <li ><a href=\"Innebygde%20funksjoner%20i%20dictionaries.ipynb\">Innebygde funksjoner</a></li>\n",
    "    <li ><a href=\"Generelt%20om%20sets.ipynb\">Generelt om sets</a></li>\n",
    "    <li ><a href=\"Generelt%20om%20filbehandling.ipynb\">Generelt om filbehandling</a></li>\n",
    "    <li ><a href=\"Osteviruset.ipynb\">Osteviruset</a></li>\n",
    "    <li ><a href=\"Bursdagsdatabasen.ipynb\">Bursdagsdatabasen</a></li>\n",
    "    <li ><a href=\"Tallak%20teller%20antall%20tall.ipynb\">Tallak teller antall tall</a></li>\n",
    "    <li class=\"active\"><a href=\"Opptaksgrenser.ipynb\">Opptaksgrenser</a></li>\n",
    "        <li ><a href=\"Soke%20i%20tekst.ipynb\">Søke i tekst</a></li>\n",
    "    <li ><a href=\"Tre%20paa%20rad.ipynb\">Tre på rad</a></li>\n",
    "    </ul>\n",
    "  </div>\n",
    "</nav>\n",
    "\n",
    "\n",
    "# Opptaksgrenser\n",
    "\n",
    "**Læringsmål:**\n",
    "\n",
    "* Lese fra filer\n",
    "* dictionaries\n",
    "\n",
    "**Starting Out with Python:**\n",
    "\n",
    "* Kap. 6: Files and Exceptions\n",
    "* Kap. 9.1 Dictionaries\n",
    "\n",
    "I denne oppgaven skal vi lese inn en fil med opptaksgrensene fra Samordna Opptak.\n",
    "\n",
    "Filen er på CSV-format (Comma Separated Values), noe som betyr at hver linje er en liste med felter separert med komma. Tekstfelter er omsluttet av fnutter (\").\n",
    "\n",
    "* Første felt er studiets navn\n",
    "* Andre felt er poenggrensen (enten et tall, eller \"Alle\" dersom alle kom inn)\n",
    "\n",
    "F.eks. linjen: **\"NTNU 194459 Antikkens kultur\",\"Alle\"** sier at alle som søkte kom inn på Dragvoll-studiet “Antikkens kultur” ved NTNU.\n",
    "\n",
    "Hver funksjon i de følgende deloppgavene tar data fra filen **poenggrenser_2011.csv** som input. Derfor er det veldig praktisk å lagre innholdet i en variabel, slik at du slipper å lese den på nytt hver gang."
   ],
   "metadata": {
    "deletable": false,
    "editable": false,
    "run_control": {
     "frozen": true
    }
   }
  },
  {
   "cell_type": "markdown",
   "source": [
    "### a)"
   ],
   "metadata": {
    "deletable": false,
    "editable": false,
    "run_control": {
     "frozen": true
    }
   }
  },
  {
   "cell_type": "markdown",
   "source": [
    "Les fra fila `poenggrenser_2011.csv` og lagre innholdet i en variabel.\n",
    "\n",
    "***Skriv koden din i boksen under.***"
   ],
   "metadata": {
    "deletable": false,
    "editable": false,
    "run_control": {
     "frozen": true
    }
   }
  },
  {
   "cell_type": "code",
   "execution_count": null,
   "source": [],
   "outputs": [],
   "metadata": {}
  },
  {
   "cell_type": "markdown",
   "source": [
    "### b)"
   ],
   "metadata": {
    "deletable": false,
    "editable": false,
    "run_control": {
     "frozen": true
    }
   }
  },
  {
   "cell_type": "markdown",
   "source": [
    "Skriv en funksjon som finner ut hvor mange studier som tok inn alle søkere. \n",
    "\n",
    "***Husk at du nå i alle deloppgavene kan bruke variabelen du definerte i a så lenge du har kjørt den kodesnutten først!***\n",
    "\n",
    "*Eksempel på kjøring av kode:*\n",
    "```python\n",
    "Antall studier hvor alle kom inn: 590\n",
    "```\n",
    "***Skriv koden din i boksen under.***"
   ],
   "metadata": {
    "deletable": false,
    "editable": false,
    "run_control": {
     "frozen": true
    }
   }
  },
  {
   "cell_type": "code",
   "execution_count": null,
   "source": [],
   "outputs": [],
   "metadata": {}
  },
  {
   "cell_type": "markdown",
   "source": [
    "### b)"
   ],
   "metadata": {
    "deletable": false,
    "editable": false,
    "run_control": {
     "frozen": true
    }
   }
  },
  {
   "cell_type": "markdown",
   "source": [
    "Skriv en funksjon som finner gjennomsnittlig opptaksgrense for NTNU. Ikke ta med studier som tok inn alle søkere.\n",
    "\n",
    "*Eksempel på kjøring av kode:*\n",
    "```python\n",
    "Gjennomsnittlig opptaksgrense for NTNU var: 46.29\n",
    "```\n",
    "***Skriv koden din i boksen under.***"
   ],
   "metadata": {
    "deletable": false,
    "editable": false,
    "run_control": {
     "frozen": true
    }
   }
  },
  {
   "cell_type": "code",
   "execution_count": null,
   "source": [],
   "outputs": [],
   "metadata": {}
  },
  {
   "cell_type": "markdown",
   "source": [
    "#### Hint"
   ],
   "metadata": {
    "deletable": false,
    "editable": false,
    "heading_collapsed": true,
    "run_control": {
     "frozen": true
    }
   }
  },
  {
   "cell_type": "markdown",
   "source": [
    "For å sjekke om studiet var på NTNU kan du hente ut de fire første bokstavene i hver linje. Hvis du har en string studie kan du gjøre dette ved å skrive: studie[1:5]"
   ],
   "metadata": {
    "deletable": false,
    "editable": false,
    "hidden": true,
    "run_control": {
     "frozen": true
    }
   }
  },
  {
   "cell_type": "markdown",
   "source": [
    "### c)"
   ],
   "metadata": {
    "deletable": false,
    "editable": false,
    "run_control": {
     "frozen": true
    }
   }
  },
  {
   "cell_type": "markdown",
   "source": [
    "Skriv en funksjon som finner studiet med laveste opptaksgrense (som IKKE tok inn alle søkere).\n",
    "\n",
    "*Eksempel på kjøring av kode:*\n",
    "```python\n",
    "Studiet som hadde den laveste opptaksgrensen var: AHO 189343 Industridesign\n",
    "```\n",
    "***Skriv koden din i boksen under.***"
   ],
   "metadata": {
    "deletable": false,
    "editable": false,
    "run_control": {
     "frozen": true
    }
   }
  },
  {
   "cell_type": "code",
   "execution_count": null,
   "source": [],
   "outputs": [],
   "metadata": {}
  },
  {
   "cell_type": "markdown",
   "source": [
    "### d)"
   ],
   "metadata": {
    "deletable": false,
    "editable": false,
    "run_control": {
     "frozen": true
    }
   }
  },
  {
   "cell_type": "markdown",
   "source": [
    "Lag en dictionary som har studiestedet som nøkkel og en liste med dictionaries som verdi. Denne listen med dictionaries skal ha navnet på linjen som nøkkel og opptakspoengene til den tilsvarende linjen som verdi. Dersom en linje har navnet \"Fysikk og Matematikk\" trenger du kun å ta hensyn til det første ordet, dvs. \"Fysikk\". \n",
    "\n",
    "**Eksempel på utskrift:**\n",
    "\n",
    "```python\n",
    "ATH [{'Kristendom': ' Alle'}, {'Interkulturell': ' Alle'}, {'Musikk': ' Alle'}, {'Teologi': ' Alle'}, {'Kristendom': ' Alle'}, {'Psykologi': ' Alle'}, {'Musikk': ' Alle'}, {'Interkulturell': ' Alle'}, {'Psykologi': ' Alle'}, {'Praktisk': ' Alle'}]\n",
    "AHO [{'Arkitekt': '12.3'}, {'Industridesign': '11.7'}]\n",
    "BDH [{'Sykepleierutdanning': '45.5'}]\n",
    "MF [{'Kristendom/RLE': ' Alle'}, {'Samfunnsfag': ' Alle'}, {'Interkulturell': ' Alle'}, {'Teologi': ' Alle'}, {'Religion': ' Alle'}, {'Ungdom': ' Alle'}, {'Lektor-': ' Alle'}, {'Teologi': ' Alle'}]\n",
    "DHS [{'Sykepleierutdanning': '48.3'}, {'Vernepleierutdanning': '41.8'}, {'Sosialt': '49.1'}, {'Sosialt': '42.4'}, {'Ergoterapeututdanning': '32.6'}]\n",
    "DMMH [{'Førskolelærerutdanning': '36.3'}, {'Førskolelærer': '39.1'}, {'Førskolelærer': '44'}, {'Førskolelærer': '46.2'}, {'Førskolelærer': ' Alle'}]\n",
    ".\n",
    ".\n",
    ".\n",
    "UIT [{'Ingeniør': ' Alle'}, {'Ingeniør': ' Alle'}, {'Ingeniør': ' Alle'}, {'Ingeniør': ' Alle'}, {'Sykepleierutdanning': '43.8'}, {'Lærerutdanning': ' Alle'}, {'Lærerutdanning': ' Alle'}, {'Førskolelærerutdanning': ' Alle'}, ....\n",
    "```\n",
    "***Skriv koden din i boksen under.***"
   ],
   "metadata": {
    "deletable": false,
    "editable": false,
    "run_control": {
     "frozen": true
    }
   }
  },
  {
   "cell_type": "code",
   "execution_count": null,
   "source": [],
   "outputs": [],
   "metadata": {}
  }
 ],
 "metadata": {
  "kernelspec": {
   "display_name": "Python 3",
   "language": "python",
   "name": "python3"
  },
  "language_info": {
   "codemirror_mode": {
    "name": "ipython",
    "version": 3
   },
   "file_extension": ".py",
   "mimetype": "text/x-python",
   "name": "python",
   "nbconvert_exporter": "python",
   "pygments_lexer": "ipython3",
   "version": "3.7.4"
  },
  "toc": {
   "base_numbering": 1,
   "nav_menu": {},
   "number_sections": false,
   "sideBar": true,
   "skip_h1_title": false,
   "title_cell": "Table of Contents",
   "title_sidebar": "Contents",
   "toc_cell": false,
   "toc_position": {},
   "toc_section_display": true,
   "toc_window_display": false
  }
 },
 "nbformat": 4,
 "nbformat_minor": 2
}