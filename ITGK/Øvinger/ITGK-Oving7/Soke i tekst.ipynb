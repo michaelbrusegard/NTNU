{
 "cells": [
  {
   "cell_type": "markdown",
   "source": [
    "<nav class=\"navbar navbar-default\">\n",
    "  <div class=\"container-fluid\">\n",
    "    <div class=\"navbar-header\">\n",
    "      <a class=\"navbar-brand\" href=\"_Oving7.ipynb\">Øving 7</a>\n",
    "    </div>\n",
    "    <ul class=\"nav navbar-nav\">\n",
    "    <li ><a href=\"Generelt%20om%20dictionary.ipynb\">Generelt om dictionary</a></li>\n",
    "    <li ><a href=\"Innebygde%20funksjoner%20i%20dictionaries.ipynb\">Innebygde funksjoner</a></li>\n",
    "    <li ><a href=\"Generelt%20om%20sets.ipynb\">Generelt om sets</a></li>\n",
    "    <li ><a href=\"Generelt%20om%20filbehandling.ipynb\">Generelt om filbehandling</a></li>\n",
    "    <li ><a href=\"Osteviruset.ipynb\">Osteviruset</a></li>\n",
    "    <li ><a href=\"Bursdagsdatabasen.ipynb\">Bursdagsdatabasen</a></li>\n",
    "    <li ><a href=\"Tallak%20teller%20antall%20tall.ipynb\">Tallak teller antall tall</a></li>\n",
    "    <li ><a href=\"Opptaksgrenser.ipynb\">Opptaksgrenser</a></li>\n",
    "    <li class=\"active\"><a href=\"Soke%20i%20tekst.ipynb\">Søke i tekst</a></li>\n",
    "    <li ><a href=\"Tre%20paa%20rad.ipynb\">Tre på rad</a></li>  \n",
    "    </ul>\n",
    "  </div>\n",
    "</nav>\n",
    "\n",
    "## Søke i tekst\n",
    "\n",
    "**Læringsmål:**\n",
    "\n",
    "* Lese fra fil\n",
    "* Tekstbehandling\n",
    "* Dictionary\n",
    "\n",
    "**Starting Out with Python:**\n",
    "\n",
    "* Kap. 6: Files and Exceptions\n",
    "* Kap. 9: Dictionaries and Sets\n",
    " \n",
    "\n",
    "I denne oppgaven skal du bli bedre kjent med dictionaries og lesing fra fil. Bruk gjerne innebygde funksjoner, alt er lov!"
   ],
   "metadata": {
    "deletable": false,
    "editable": false,
    "run_control": {
     "frozen": true
    }
   }
  },
  {
   "cell_type": "markdown",
   "source": [
    "### a)"
   ],
   "metadata": {
    "deletable": false,
    "editable": false,
    "run_control": {
     "frozen": true
    }
   }
  },
  {
   "cell_type": "markdown",
   "source": [
    "Lag en funksjon **`read_from_file(filename)`** som tar inn en string (**filename**) og returnerer innholdet i filen. Dersom funksjonen tar inn 'Alice_in_wonderland.txt' bør utskriften bli følgende:\n",
    "\n",
    "**Kjøring av kode:**\n",
    "\n",
    "```\n",
    "Alice's Adventures in Wonderland\n",
    "\n",
    "                ALICE'S ADVENTURES IN WONDERLAND\n",
    "\n",
    "                          Lewis Carroll\n",
    "\n",
    "               THE MILLENNIUM FULCRUM EDITION 3.0\n",
    "\n",
    "\n",
    "\n",
    "\n",
    "                            CHAPTER I\n",
    "\n",
    "                      Down the Rabbit-Hole\n",
    "\n",
    ".\n",
    ".\n",
    ".\n",
    "\n",
    "```\n",
    "***Skriv koden din i boksen under.***"
   ],
   "metadata": {
    "deletable": false,
    "editable": false,
    "run_control": {
     "frozen": true
    }
   }
  },
  {
   "cell_type": "code",
   "execution_count": null,
   "source": [],
   "outputs": [],
   "metadata": {}
  },
  {
   "cell_type": "markdown",
   "source": [
    "### b)"
   ],
   "metadata": {
    "deletable": false,
    "editable": false,
    "run_control": {
     "frozen": true
    }
   }
  },
  {
   "cell_type": "markdown",
   "source": [
    "Lag en funksjon **`remove_symbols(text)`** som fjerner alle spesialtegn fra teksten **text**, og gjør alle bokstaver små (lowercase).   \n",
    "Ting som skal fjernes er slik som tall, komma, punktum og fnutter. La mellomrom stå slik at du kan skille ord fra hverandre.\n",
    "\n",
    "Dersom funksjonen tar inn 'Alice_in_wonderland.txt' bør utskriften bli følgende:\n",
    "\n",
    "**Kjøring av kode:**\n",
    "```alices adventures in wonderland                alices adventures in wonderland                          lewis carroll ...```\n",
    "\n",
    "***Skriv koden din i boksen under.***"
   ],
   "metadata": {
    "deletable": false,
    "editable": false,
    "run_control": {
     "frozen": true
    }
   }
  },
  {
   "cell_type": "code",
   "execution_count": null,
   "source": [],
   "outputs": [],
   "metadata": {}
  },
  {
   "cell_type": "markdown",
   "source": [
    "#### Hint"
   ],
   "metadata": {
    "deletable": false,
    "editable": false,
    "heading_collapsed": true,
    "run_control": {
     "frozen": true
    }
   }
  },
  {
   "cell_type": "markdown",
   "source": [
    "Dette kan gjøres ved hjelp av funksjonene *.join()*, *.isalpha()* og *.lower()*. \n",
    "\n",
    "lower() gjør alle bokstavene i en streng små."
   ],
   "metadata": {
    "deletable": false,
    "editable": false,
    "hidden": true,
    "run_control": {
     "frozen": true
    }
   }
  },
  {
   "cell_type": "code",
   "execution_count": null,
   "source": [
    "streng = 'Hei pÅ deg'\n",
    "streng = ord.lower()\n",
    "print(streng)"
   ],
   "outputs": [],
   "metadata": {
    "hidden": true
   }
  },
  {
   "cell_type": "markdown",
   "source": [
    "isalpha() sjekker om en streng kun består av bokstaver"
   ],
   "metadata": {
    "deletable": false,
    "editable": false,
    "hidden": true,
    "run_control": {
     "frozen": true
    }
   }
  },
  {
   "cell_type": "code",
   "execution_count": null,
   "source": [
    "streng = 'Hei'\n",
    "print(streng.isalpha())     \n",
    "streng = 'Hei på deg'\n",
    "print(streng.isalpha()) \n",
    "streng = \"Hei!!!!\"\n",
    "print(streng.isalpha())"
   ],
   "outputs": [],
   "metadata": {
    "hidden": true
   }
  },
  {
   "cell_type": "markdown",
   "source": [
    "join() returnerer en streng hvor strengelementene i en liste blir knyttet sammen av str operatoren."
   ],
   "metadata": {
    "deletable": false,
    "editable": false,
    "hidden": true,
    "run_control": {
     "frozen": true
    }
   }
  },
  {
   "cell_type": "code",
   "execution_count": null,
   "source": [
    "s = '-'\n",
    "seq = ('a', 'b', 'c')\n",
    "print(s.join(seq))"
   ],
   "outputs": [],
   "metadata": {
    "hidden": true
   }
  },
  {
   "cell_type": "markdown",
   "source": [
    "### c)"
   ],
   "metadata": {
    "deletable": false,
    "editable": false,
    "run_control": {
     "frozen": true
    }
   }
  },
  {
   "cell_type": "markdown",
   "source": [
    "Lag en funksjon **`count_words(filename)`** som tar inn en streng (**filename**), teller antall forekomster av alle ord i filen og returnerer en dictionary med resultatet.\n",
    "\n",
    "***Skriv koden din i boksen under.***"
   ],
   "metadata": {
    "deletable": false,
    "editable": false,
    "run_control": {
     "frozen": true
    }
   }
  },
  {
   "cell_type": "code",
   "execution_count": null,
   "source": [],
   "outputs": [],
   "metadata": {}
  },
  {
   "cell_type": "markdown",
   "source": [
    "#### Hint"
   ],
   "metadata": {
    "deletable": false,
    "editable": false,
    "heading_collapsed": true,
    "run_control": {
     "frozen": true
    }
   }
  },
  {
   "cell_type": "markdown",
   "source": [
    "Bruk en dictionary med **ord** som nøkkel og **antall forekomster** som value."
   ],
   "metadata": {
    "deletable": false,
    "editable": false,
    "hidden": true,
    "run_control": {
     "frozen": true
    }
   }
  },
  {
   "cell_type": "markdown",
   "source": [
    "### d)"
   ],
   "metadata": {
    "deletable": false,
    "editable": false,
    "run_control": {
     "frozen": true
    }
   }
  },
  {
   "cell_type": "markdown",
   "source": [
    "Sjekk om oppgave c) fungerer ved å kjøre funksjonen med 'Alice_in_wonderland.txt' som argument.\n",
    "\n",
    "*Du kan skrive ut hver linje i dictionarien for seg ved å bruke:*"
   ],
   "metadata": {
    "deletable": false,
    "editable": false,
    "run_control": {
     "frozen": true
    }
   }
  },
  {
   "cell_type": "code",
   "execution_count": null,
   "source": [
    "alice_dict = countWords('Alice_in_wonderland.txt')\n",
    "for word, value in alice_dict.items():\n",
    "    print(word, value)"
   ],
   "outputs": [],
   "metadata": {}
  }
 ],
 "metadata": {
  "kernelspec": {
   "display_name": "Python 3",
   "language": "python",
   "name": "python3"
  },
  "language_info": {
   "codemirror_mode": {
    "name": "ipython",
    "version": 3
   },
   "file_extension": ".py",
   "mimetype": "text/x-python",
   "name": "python",
   "nbconvert_exporter": "python",
   "pygments_lexer": "ipython3",
   "version": "3.7.3"
  }
 },
 "nbformat": 4,
 "nbformat_minor": 2
}