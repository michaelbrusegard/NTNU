{
 "cells": [
  {
   "cell_type": "markdown",
   "id": "8f1f3100",
   "metadata": {},
   "source": [
    "# Exercise 1: Prediction Models"
   ]
  },
  {
   "cell_type": "markdown",
   "id": "6bc2de9d",
   "metadata": {},
   "source": [
    "You will practice the basic steps to fit and to use a machine learning model."
   ]
  },
  {
   "cell_type": "code",
   "execution_count": null,
   "id": "d1d73817",
   "metadata": {},
   "outputs": [],
   "source": [
    "# import packages\n",
    "import pandas as pd\n",
    "import numpy as np\n",
    "from sklearn.model_selection import train_test_split, GridSearchCV\n",
    "from sklearn.metrics import accuracy_score, precision_score, recall_score, f1_score\n",
    "import xgboost as xgb"
   ]
  },
  {
   "cell_type": "code",
   "execution_count": null,
   "id": "ff55a65e",
   "metadata": {},
   "outputs": [],
   "source": [
    "# Load data\n",
    "X_train = pd.read_csv(\"ex1_train.csv\", header=None)\n",
    "X_test = pd.read_csv(\"ex1_test.csv\", header=None)\n",
    "y_train = pd.read_csv(\"ex1_class_train.csv\", header=None)\n",
    "y_test = pd.read_csv(\"ex1_class_test.csv\", header=None)"
   ]
  },
  {
   "cell_type": "markdown",
   "id": "5badda87",
   "metadata": {},
   "source": [
    "# Part 1: Default XGBoost Classifier"
   ]
  },
  {
   "cell_type": "markdown",
   "id": "242d88ef",
   "metadata": {},
   "source": [
    "**TODO: Fit the model and predict for test data in the following cell**"
   ]
  },
  {
   "cell_type": "code",
   "execution_count": null,
   "id": "18c20b1f",
   "metadata": {},
   "outputs": [],
   "source": [
    "# 1) create an XGBoost classifier instance\n",
    "classifier = xgb.XGBClassifier()\n",
    "# 2) fit the classifier using X_train and y_train\n",
    "classifier.fit(X_train, y_train)\n",
    "# 3) make prediction over X_test. The prediction output should be named y_pred_default\n",
    "y_pred_default = classifier.predict(X_test)"
   ]
  },
  {
   "cell_type": "code",
   "execution_count": null,
   "id": "5ba76584",
   "metadata": {},
   "outputs": [],
   "source": [
    "# Evaluate the default model\n",
    "accuracy_default = accuracy_score(y_test, y_pred_default)\n",
    "precision_default = precision_score(y_test, y_pred_default)\n",
    "recall_default = recall_score(y_test, y_pred_default)\n",
    "f1_default = f1_score(y_test, y_pred_default)\n",
    "\n",
    "print(\"Default Model Performance:\")\n",
    "print(f\"Accuracy: {accuracy_default:.4f}\")\n",
    "print(f\"Precision: {precision_default:.4f}\")\n",
    "print(f\"Recall: {recall_default:.4f}\")\n",
    "print(f\"F1 Score: {f1_default:.4f}\")"
   ]
  },
  {
   "cell_type": "markdown",
   "id": "49d81e4f",
   "metadata": {},
   "source": [
    "You should achieve F1 score>0.65 to pass Part 1."
   ]
  },
  {
   "cell_type": "markdown",
   "id": "0c9b9eab",
   "metadata": {},
   "source": [
    "# Part 2: Hyperparameter Tuning with Cross-Validation"
   ]
  },
  {
   "cell_type": "code",
   "execution_count": null,
   "id": "249d2e43",
   "metadata": {},
   "outputs": [],
   "source": [
    "# Define candidate hyperparameters\n",
    "param_grid = {\n",
    "    'n_estimators': [100, 200, 300],\n",
    "    'max_depth': [3, 6, 9],\n",
    "    'learning_rate': [0.01, 0.1, 0.2]\n",
    "}"
   ]
  },
  {
   "cell_type": "markdown",
   "id": "6aa0b4d8",
   "metadata": {},
   "source": [
    "**TODO: Find the best hyperparameters and use them to fit an improved classifier in the following cell**"
   ]
  },
  {
   "cell_type": "code",
   "execution_count": null,
   "id": "c03fc019",
   "metadata": {},
   "outputs": [],
   "source": [
    "# 1) use GridSearchCV to find the best hyperparameters\n",
    "hyperparameter_search = GridSearchCV(classifier, param_grid, cv=5)\n",
    "hyperparameter_search.fit(X_train, y_train)\n",
    "# 2) fit an XGBoost classifier using the best hyperparameters\n",
    "classifier_tuned = xgb.XGBClassifier(**hyperparameter_search.best_params_)\n",
    "classifier_tuned.fit(X_train, y_train)\n",
    "# 3) make prediction over X_test. The prediction output should be named y_pred_tuned\n",
    "y_pred_tuned = classifier_tuned.predict(X_test)"
   ]
  },
  {
   "cell_type": "code",
   "execution_count": null,
   "id": "5e720be2",
   "metadata": {},
   "outputs": [],
   "source": [
    "# Evaluate the tuned model\n",
    "accuracy_tuned = accuracy_score(y_test, y_pred_tuned)\n",
    "precision_tuned = precision_score(y_test, y_pred_tuned)\n",
    "recall_tuned = recall_score(y_test, y_pred_tuned)\n",
    "f1_tuned = f1_score(y_test, y_pred_tuned)\n",
    "\n",
    "print(\"Tuned Model Performance:\")\n",
    "print(f\"Accuracy: {accuracy_tuned:.4f}\")\n",
    "print(f\"Precision: {precision_tuned:.4f}\")\n",
    "print(f\"Recall: {recall_tuned:.4f}\")\n",
    "print(f\"F1 Score: {f1_tuned:.4f}\")\n",
    "\n",
    "# Analysis\n",
    "print(f\"Improvement in F1 Score: {f1_tuned - f1_default:.4f}\")"
   ]
  },
  {
   "cell_type": "markdown",
   "id": "71dffa91",
   "metadata": {},
   "source": [
    "To pass Part 2, your new F1 score should be higher 0.65 and the one in Part 1."
   ]
  },
  {
   "cell_type": "code",
   "execution_count": null,
   "id": "2dd44323",
   "metadata": {},
   "outputs": [],
   "source": []
  }
 ],
 "metadata": {
  "kernelspec": {
   "display_name": "Python 3",
   "language": "python",
   "name": "python3"
  },
  "language_info": {
   "codemirror_mode": {
    "name": "ipython",
    "version": 3
   },
   "file_extension": ".py",
   "mimetype": "text/x-python",
   "name": "python",
   "nbconvert_exporter": "python",
   "pygments_lexer": "ipython3",
   "version": "3.8.3"
  }
 },
 "nbformat": 4,
 "nbformat_minor": 5
}
