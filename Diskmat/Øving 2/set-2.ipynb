{
 "cells": [
  {
   "attachments": {},
   "cell_type": "markdown",
   "metadata": {},
   "source": [
    "### Exercise 1\n",
    "Lewis, Zax: Exercise 12.1"
   ]
  },
  {
   "attachments": {},
   "cell_type": "markdown",
   "metadata": {},
   "source": [
    "### Exercise 2\n",
    "Consider the following predicates in the universe of real numbers:\n",
    "\n",
    "- $F(x,y)$ : $x$ is smaller than $y$.\n",
    "- $G(x,y)$ : $x$ is equal to $y$.\n",
    "\n",
    "\n",
    "Translate the following statements into English sentences and then comment on whether they should be true or false.\n",
    "\n",
    "a) $\\forall x \\exists y F(x,y)$\n",
    "\n",
    "b) $\\exists x \\forall y G(x,y)$\n",
    "\n",
    "c) $\\forall x \\forall y \\forall z F(x,y) \\wedge F(y,z) \\Rightarrow F(x,z)$\n",
    "\n",
    "d) $\\forall x \\forall y \\forall z (F(x,y) \\vee G(x,y)) \\wedge (F(y,z) \\vee G(y,z)) \\wedge G(x,z) \\Rightarrow G(x,y)$"
   ]
  },
  {
   "attachments": {},
   "cell_type": "markdown",
   "metadata": {},
   "source": [
    "### Exercise 3\n",
    "Which of the following four quantificational formulas are logically equivalent? Justify your answer.\n",
    "\n",
    "a) $\\neg(\\forall x \\exists y  F(x,y) \\Rightarrow F(y,x))$\n",
    "\n",
    "b) $\\exists x \\forall y \\neg F(x,y) \\wedge F(y,x)$\n",
    "\n",
    "c) $\\exists x \\forall y F(x,y) \\wedge \\neg F(y,x)$\n",
    "\n",
    "c) $\\exists y \\forall x \\neg F(x,y) \\wedge F(y,x)$"
   ]
  },
  {
   "attachments": {},
   "cell_type": "markdown",
   "metadata": {},
   "source": [
    "--- \n",
    "## Part 2 - Programming tasks\n",
    "\n",
    "In these exercises we will explore predicate and quantificational logic using Python.\n",
    "\n",
    "You can write and run your code directly in this file. Your solutions should be delivered as part of your hand-in.\n",
    "\n",
    "### Task 1\n",
    "\n",
    "Write the following predicates as Python functions.\n",
    "\n",
    "a) $P(x) := (x * 3 = x + x + x)$ where the universe is floating point numbers.\n",
    "\n",
    "b) $Q(n) := (20^2 + n^2 = 29^2)$ where the universe is whole numbers.\n",
    "\n",
    "c) $M(p, q) := ((p \\Rightarrow q) \\land p \\Rightarrow q)$ where the universe is boolean values.\n"
   ]
  },
  {
   "cell_type": "code",
   "execution_count": 1,
   "metadata": {},
   "outputs": [],
   "source": [
    "# Your solutions here\n",
    "# a)\n",
    "def P(x: float):\n",
    "    return (3 * x == x + x + x)\n",
    "\n",
    "# b)\n",
    "def Q(n: int):\n",
    "    return (20 ** 2 + n ** 2 == 29 ** 2)\n",
    "\n",
    "# c)\n",
    "def M(p: bool, q: bool):\n",
    "    return ((not p or q) and (not p or q))"
   ]
  },
  {
   "attachments": {},
   "cell_type": "markdown",
   "metadata": {},
   "source": [
    "### Task 2\n",
    "\n",
    "You are given the following Python implementations of the predicates\n",
    "\n",
    "$ R(n) := (2 \\mid (n + 1))$\n",
    "\n",
    "$ S(n) := (4 \\mid n^2)$\n",
    "\n",
    "where the universe is whole numbers between (including) 0 and (excluding) 1000.\n",
    "\n",
    "(The notation $x \\mid y$ means \"$x$ divides $y$\", i.e. \"$y$ is divisible by $x$\".)"
   ]
  },
  {
   "cell_type": "code",
   "execution_count": 2,
   "metadata": {},
   "outputs": [],
   "source": [
    "R = lambda n: (n + 1) % 2 == 0\n",
    "S = lambda n: n ** 2 % 4 == 0"
   ]
  },
  {
   "attachments": {},
   "cell_type": "markdown",
   "metadata": {},
   "source": [
    "Write programs that determine the truth values of the following statements using Python `for` loops.\n",
    "\n",
    "The functions should return boolean values (either `True` or `False`).\n",
    "\n",
    "a) $\\exists n R(n)$"
   ]
  },
  {
   "cell_type": "code",
   "execution_count": 3,
   "metadata": {},
   "outputs": [],
   "source": [
    "def Task2a():\n",
    "  # Your code here\n",
    "  for i in range(1000):\n",
    "    if R(i):\n",
    "      return True\n",
    "  return False\n",
    "\n",
    "Task2a()"
   ]
  },
  {
   "attachments": {},
   "cell_type": "markdown",
   "metadata": {},
   "source": [
    "b) $\\forall n (R(n) \\land S(n))$"
   ]
  },
  {
   "cell_type": "code",
   "execution_count": 4,
   "metadata": {},
   "outputs": [],
   "source": [
    "def Task2b():\n",
    "  # Your code here\n",
    "  for i in range(1000):\n",
    "    if not (R(i) and S(i)):\n",
    "      return False\n",
    "  return True\n",
    "\n",
    "Task2b()"
   ]
  },
  {
   "attachments": {},
   "cell_type": "markdown",
   "metadata": {},
   "source": [
    "c) $\\forall n (R(n) \\oplus S(n))$"
   ]
  },
  {
   "cell_type": "code",
   "execution_count": 5,
   "metadata": {},
   "outputs": [],
   "source": [
    "def Task2c():\n",
    "  # Your code here\n",
    "  for i in range(1000):\n",
    "    if (R(i) == S(i)):\n",
    "      return False\n",
    "  return True\n",
    "\n",
    "Task2c()"
   ]
  },
  {
   "attachments": {},
   "cell_type": "markdown",
   "metadata": {},
   "source": [
    "d) $\\neg \\exists n (R(n) \\Rightarrow R(n + 1))$"
   ]
  },
  {
   "cell_type": "code",
   "execution_count": 6,
   "metadata": {},
   "outputs": [],
   "source": [
    "def Task2d():\n",
    "  # Your code here\n",
    "  for i in range(1000):\n",
    "    if (not R(i) or R(i + 1)):\n",
    "      return False\n",
    "  return True\n",
    "\n",
    "Task2d()"
   ]
  },
  {
   "attachments": {},
   "cell_type": "markdown",
   "metadata": {},
   "source": [
    "e) $\\forall n (R(n) \\Rightarrow \\forall m S((n+1)\\cdot m))$"
   ]
  },
  {
   "cell_type": "code",
   "execution_count": 26,
   "metadata": {},
   "outputs": [
    {
     "data": {
      "text/plain": [
       "True"
      ]
     },
     "execution_count": 26,
     "metadata": {},
     "output_type": "execute_result"
    }
   ],
   "source": [
    "def Task2eHelper(n):\n",
    "  for i in range(1000):\n",
    "    if not S((n + 1) * i):\n",
    "      return False\n",
    "  return True\n",
    "  \n",
    "def Task2e():\n",
    "  # Your code here\n",
    "  for i in range(1000):\n",
    "    if (not R(i) or Task2eHelper(i)):\n",
    "      return True\n",
    "  return False\n",
    "\n",
    "Task2e()"
   ]
  },
  {
   "attachments": {},
   "cell_type": "markdown",
   "metadata": {},
   "source": [
    "### Task 3\n",
    "\n",
    "There are built-in functions in Python that let us more easily program with existential and universal quantification.\n",
    "These functions are respectively called `any` and `all`. Using these and Python list comprehensions or generator expressions we can make the solutions to the previous task much simpler. At the same time, it allows us to think more mathematically about our code.\n",
    "\n",
    "Just consider the following solution to Task 2 b)"
   ]
  },
  {
   "cell_type": "code",
   "execution_count": 8,
   "metadata": {},
   "outputs": [
    {
     "data": {
      "text/plain": [
       "False"
      ]
     },
     "execution_count": 8,
     "metadata": {},
     "output_type": "execute_result"
    }
   ],
   "source": [
    "all([R(n) and S(n) for n in range(1000)])"
   ]
  },
  {
   "attachments": {},
   "cell_type": "markdown",
   "metadata": {},
   "source": [
    "This reads almost exactly as the notation of the mathematical statement it encodes:\n",
    "\n",
    "\"$\\forall n(R(n)\\land S(n))$ where the universe is whole numbers between (including) 0 and (excluding) 1000.\""
   ]
  },
  {
   "attachments": {},
   "cell_type": "markdown",
   "metadata": {},
   "source": [
    "You can read more about these in the following places:\n",
    "- `any`: https://docs.python.org/3/library/functions.html#any\n",
    "- `all`: https://docs.python.org/3/library/functions.html#all\n",
    "- list comprehensions: https://docs.python.org/3/tutorial/datastructures.html#list-comprehensions\n",
    "- (generator expressions: https://www.pythontutorial.net/advanced-python/python-generator-expressions/)"
   ]
  },
  {
   "attachments": {},
   "cell_type": "markdown",
   "metadata": {},
   "source": [
    "Write solutions to the other statements in Task 2 using Python list comprehensions or generator expressions and the Python functions `any` and `all`."
   ]
  },
  {
   "cell_type": "code",
   "execution_count": 27,
   "metadata": {},
   "outputs": [
    {
     "data": {
      "text/plain": [
       "True"
      ]
     },
     "execution_count": 27,
     "metadata": {},
     "output_type": "execute_result"
    }
   ],
   "source": [
    "# Your solutions here\n",
    "\n",
    "# a)\n",
    "any([R(i) for i in range(1000)])\n",
    "\n",
    "# b)\n",
    "all([R(i) and S(i) for i in range(1000)])\n",
    "\n",
    "# c)\n",
    "all([R(i) != S(i) for i in range(1000)])\n",
    "\n",
    "# d)\n",
    "not any([not R(i) or R(i + 1) for i in range(1000)])\n",
    "\n",
    "# e)\n",
    "all([not R(i) or all([S((i + 1) * j) for j in range(1000)]) for i in range(1000)])"
   ]
  },
  {
   "attachments": {},
   "cell_type": "markdown",
   "metadata": {},
   "source": [
    "### Task 4 (optional)\n",
    "\n",
    "Write a program that finds all combinations of truth values for $p$, $q$, $r$, and $s$ satisfying the following predicate\n",
    "\n",
    "$ T(p, q, r, s) := (p \\Rightarrow (q \\land r)) \\land (r \\Rightarrow ((s \\lor \\neg q) \\land p))$\n",
    "\n",
    "and prints them to the screen."
   ]
  },
  {
   "cell_type": "code",
   "execution_count": 10,
   "metadata": {},
   "outputs": [],
   "source": [
    "# Your solution here"
   ]
  },
  {
   "attachments": {},
   "cell_type": "markdown",
   "metadata": {},
   "source": [
    "Reflect on what the results tell you about the following statements:\n",
    "\n",
    "a) $\\exists p\\exists q \\exists r \\exists s T(p,q,r,s)$\n",
    "\n",
    "b) $\\forall p\\forall q \\forall r \\forall s T(p,q,r,s)$\n",
    "\n",
    "c) $\\exists p\\forall q \\exists r \\forall s T(p,q,r,s)$\n",
    "\n",
    "d) $\\forall p\\exists q \\exists r \\exists s T(p,q,r,s)$\n",
    "\n",
    "e) $\\exists q \\exists r \\exists s \\forall p T(p,q,r,s)$"
   ]
  }
 ],
 "metadata": {
  "kernelspec": {
   "display_name": "Python 3",
   "language": "python",
   "name": "python3"
  },
  "language_info": {
   "codemirror_mode": {
    "name": "ipython",
    "version": 3
   },
   "file_extension": ".py",
   "mimetype": "text/x-python",
   "name": "python",
   "nbconvert_exporter": "python",
   "pygments_lexer": "ipython3",
   "version": "3.10.6 (main, Aug 16 2022, 17:39:05) [Clang 14.0.0 (clang-1400.0.29.102)]"
  },
  "orig_nbformat": 4,
  "vscode": {
   "interpreter": {
    "hash": "2000c87707d1ad695940156d2e786a753f54cfe38282b555acc79436bfa327af"
   }
  }
 },
 "nbformat": 4,
 "nbformat_minor": 2
}
