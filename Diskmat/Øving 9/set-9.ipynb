{
 "cells": [
  {
   "attachments": {},
   "cell_type": "markdown",
   "metadata": {},
   "source": [
    "# Exercise Set 9\n",
    "\n",
    "_The deadline is Monday 27.3._\n",
    "\n",
    "The relevant sections of Lewis–Zax is chapter 13 and 16.\n",
    "\n",
    "In this exercise set, there are 5 written exercises and 5 programming exercises.\n",
    "As your hand-in, you must answer 5 of these exercises, but you can choose which\n",
    "5 freely. That could be just the 5 written exercises, just the 5 programming\n",
    "exercises, or some mix of these.\n",
    "\n",
    "Note that the topics covered by the different types of exercises is not entirely\n",
    "overlapping, so you should prioritize exercises according to what you want to practice on."
   ]
  },
  {
   "attachments": {},
   "cell_type": "markdown",
   "metadata": {},
   "source": [
    "---\n",
    "\n",
    "## Written exercises"
   ]
  },
  {
   "attachments": {},
   "cell_type": "markdown",
   "metadata": {},
   "source": [
    "**Exercise 1.** \n",
    "Recall that an adjacency matrix associated to a graph is a matrix such that the\n",
    "value at the i'th row and j'th column denotes how many arcs point from\n",
    "the i'th vertex to the j'th vertex.\n",
    "Use the following adjacency martices to draw their associated graphs.\n",
    "\n",
    "a) The directed graph associated to\n",
    "\n",
    "\\begin{pmatrix}\n",
    "1 & 1 & 0 & 0 & 0\\\\\n",
    "0 & 1 & 1 & 0 & 1\\\\\n",
    "0 & 0 & 0 & 1 & 1\\\\\n",
    "1 & 0 & 1 & 1 & 0\\\\\n",
    "0 & 0 & 0 & 0 & 0\n",
    "\\end{pmatrix}\n",
    "\n",
    "b) The undirected graph associated to\n",
    "\n",
    "\\begin{pmatrix}\n",
    "0 & 1 & 1 & 0 & 1\\\\\n",
    "1 & 0 & 0 & 1 & 1\\\\\n",
    "1 & 0 & 0 & 0 & 0\\\\\n",
    "0 & 1 & 0 & 0 & 1\\\\\n",
    "1 & 1 & 0 & 1 & 0\n",
    "\\end{pmatrix}"
   ]
  },
  {
   "attachments": {},
   "cell_type": "markdown",
   "metadata": {},
   "source": [
    "**Exercise 2.**\n",
    "This exercise builds on Lewis–Zax 16.2 from last exercise set. Recall that an Eulerian path is a path that traverses each edge in the graph exactly once, and let $G = (V_G, E_G)$ be the graph depicted in Figure 16.21 on page 171.\n",
    "\n",
    "1. Explain why $V_G$ with the edge $\\{A,E\\}$ removed must have an Eulerian path and find one.\n",
    "\n",
    "2. Let $X \\subseteq E_G$ and consider the graph $(V_G, E_G - X)$. Now Assume $X$ consists of precisely two edges. Find all pairs of edges such that $(V_G, E_G - X)$ is connected and has an Eulerian path.\n",
    "\n",
    "3. If we require $(V_G, E_G - X)$ to be connected and have an Eulerian circuit, and $X$ to consist of precisely three edges, which triples are possible? Explain your answer."
   ]
  },
  {
   "attachments": {},
   "cell_type": "markdown",
   "metadata": {},
   "source": [
    "**Exercise 3.** Lewis–Zax: Exercise 16.10."
   ]
  },
  {
   "attachments": {},
   "cell_type": "markdown",
   "metadata": {},
   "source": [
    "**Exercise 4.** Lewis–Zax: Exercise 16.8."
   ]
  },
  {
   "attachments": {},
   "cell_type": "markdown",
   "metadata": {},
   "source": [
    "**Exercise 5.** Lewis–Zax: Exercise 16.9."
   ]
  },
  {
   "attachments": {},
   "cell_type": "markdown",
   "metadata": {},
   "source": [
    "---\n",
    "\n",
    "## Programming exercises\n",
    "\n",
    "In these exercises, we will explore how finite graphs can be used in programming.\n",
    "(You can decide whether you want to write your solutions to the programming exercises as\n",
    "Python programs in this file, as pseudocode, or just using long form text to describe\n",
    "what your program would do in detail.)\n",
    "\n",
    "\n",
    "We can program with directed and undirected graphs in Python and other languages using special data structures.\n",
    "One such data structure representation of a graph uses _adjacency lists_.\n",
    "Given a vertex $a$, an _adjacency list for_ $a$ is a list of vertices such that for every entry in the list there is an arc from $a$ to that vertex.\n",
    "For instance, if a directed graph consists of two vertices $\\{a,b\\}$ and two arcs $a\\rightrightarrows b$, then this graph can be\n",
    "encoded as the following dictionary of adjacency lists:"
   ]
  },
  {
   "cell_type": "code",
   "execution_count": 6,
   "metadata": {},
   "outputs": [],
   "source": [
    "G_example = {\n",
    "  'a' : ['b', 'b'],\n",
    "  'b' : [],\n",
    "}"
   ]
  },
  {
   "attachments": {},
   "cell_type": "markdown",
   "metadata": {},
   "source": [
    "**Exercise 6.** Encode the graph from Figure 13.6 (page 136) in Lewis–Zax as a dictionary of adjacency lists."
   ]
  },
  {
   "cell_type": "code",
   "execution_count": 2,
   "metadata": {},
   "outputs": [],
   "source": [
    "G_fig136 = {\n",
    "  'H' : ['Y', 'P'],\n",
    "  'Y' : ['D', 'P'],\n",
    "  'P' : ['D'],\n",
    "  'D' : ['H'],\n",
    "}"
   ]
  },
  {
   "attachments": {},
   "cell_type": "markdown",
   "metadata": {},
   "source": [
    "**Exercise 7.**\n",
    "Write or describe a program that finds a path between a given start and end vertex in a finite directed graph encoded as a dictionary of adjacency lists.\n",
    "\n",
    "The output should be the list of visited vertices along the path, or `None` if no path exists.\n",
    "\n",
    "_Hints._\n",
    "\n",
    "<details>\n",
    "<summary>Hint 1</summary>\n",
    "\n",
    "- The program should keep track of the visited vertices it has searched through, to avoid cycles.\n",
    "\n",
    "</details>\n",
    "\n",
    "<details>\n",
    "<summary>Hint 2</summary>\n",
    "\n",
    "- It can be helpful to implement the program as a recursive function.\n",
    "\n",
    "</details>\n",
    "\n",
    "<details>\n",
    "<summary>Hint 3</summary>\n",
    "\n",
    "- You can use depth-first or breadth-first search to find the path.\n",
    "\n",
    "</details>\n"
   ]
  },
  {
   "cell_type": "code",
   "execution_count": 22,
   "metadata": {},
   "outputs": [
    {
     "name": "stdout",
     "output_type": "stream",
     "text": [
      "['P', 'D']\n",
      "['Y', 'D', 'H']\n",
      "['P', 'D', 'H', 'Y']\n",
      "['Y']\n",
      "None\n"
     ]
    }
   ],
   "source": [
    "# Exercise 7\n",
    "def find_path(G, start, end, path = []):\n",
    "  path = path + [start]\n",
    "  if start == end:\n",
    "    return path\n",
    "  for i in G[start]:\n",
    "    if not i in path:\n",
    "      newpath = find_path(G, i, end, path)\n",
    "      if newpath != None: \n",
    "        return newpath\n",
    "  return None\n",
    "\n",
    "# Test cases\n",
    "print(find_path(G_fig136, 'P', 'D')) # Should output ['P', 'D']\n",
    "print(find_path(G_fig136, 'Y', 'H')) # Should output ['Y', 'P', 'D', 'H']\n",
    "print(find_path(G_fig136, 'P', 'Y')) # Should output ['P', 'D', 'H', 'Y']\n",
    "print(find_path(G_fig136, 'Y', 'Y')) # Should output ['Y']\n",
    "print(find_path(G_example, 'b', 'a')) # Should output None"
   ]
  },
  {
   "attachments": {},
   "cell_type": "markdown",
   "metadata": {},
   "source": [
    "**Exercise 8.** Does your solution to exercise 4 find the shortest path from the start to the end vertex?\n",
    "\n",
    "If yes, explain why, and if no, give a counter-example."
   ]
  },
  {
   "attachments": {},
   "cell_type": "markdown",
   "metadata": {},
   "source": [
    "**Answer:** This implementation does not find the shortest path because it follows one path at a time and returns as soon as a path is completed. It may sometimes return the shortest path if that path comes from the first vertice that has a complete path that it checks. Below is a counter example where it finds every single path and then returns the shortest one."
   ]
  },
  {
   "cell_type": "code",
   "execution_count": 7,
   "metadata": {},
   "outputs": [
    {
     "name": "stdout",
     "output_type": "stream",
     "text": [
      "['P', 'D']\n",
      "['Y', 'D', 'H']\n",
      "['P', 'D', 'H', 'Y']\n",
      "['Y']\n",
      "None\n"
     ]
    }
   ],
   "source": [
    "# Exercise 8\n",
    "def find_shortest_path(G, start, end):\n",
    "  visited = set()\n",
    "  queue = []\n",
    "  queue.append((start, [start]))\n",
    "  shortest_path = None\n",
    "  while len(queue) > 0:\n",
    "    vertice, path = queue.pop(0)\n",
    "    visited.add(vertice)\n",
    "    if vertice == end:\n",
    "      if shortest_path == None or len(path) < len(shortest_path):\n",
    "        shortest_path = path\n",
    "    else:\n",
    "      for i in G[vertice]:\n",
    "        if not i in visited:\n",
    "          queue.append((i, path + [i]))\n",
    "  return shortest_path\n",
    "\n",
    "# Test cases\n",
    "print(find_shortest_path(G_fig136, 'P', 'D')) # Should output ['P', 'D']\n",
    "print(find_shortest_path(G_fig136, 'Y', 'H')) # Should output ['Y', 'D', 'H']\n",
    "print(find_shortest_path(G_fig136, 'P', 'Y')) # Should output ['P', 'D', 'H', 'Y']\n",
    "print(find_shortest_path(G_fig136, 'Y', 'Y')) # Should output ['Y']\n",
    "print(find_shortest_path(G_example, 'b', 'a')) # Should output None"
   ]
  },
  {
   "attachments": {},
   "cell_type": "markdown",
   "metadata": {},
   "source": [
    "**Exercise 9.**\n",
    "Recall that a DAG is a directed graph with no nontrivial cycles.\n",
    "Write or describe a program that determines if a finite directed graph represented as a dictionary of adjacency lists is a DAG.\n",
    "\n",
    "_Hints._\n",
    "\n",
    "<details>\n",
    "<summary>Hint 1</summary>\n",
    "\n",
    "- It can be helpful to implement a subroutine that, given a vertex, determines if there is a nontrivial cycle starting at that vertex.\n",
    "\n",
    "</details>\n",
    "\n",
    "<details>\n",
    "<summary>Hint 2</summary>\n",
    "\n",
    "- You may find the function `find_path` from earlier useful.\n",
    "\n",
    "</details>"
   ]
  },
  {
   "cell_type": "code",
   "execution_count": 19,
   "metadata": {
    "tags": []
   },
   "outputs": [
    {
     "name": "stdout",
     "output_type": "stream",
     "text": [
      "True\n",
      "False\n"
     ]
    }
   ],
   "source": [
    "def is_DAG(G):\n",
    "  for i in G:\n",
    "    for j in G:\n",
    "      path = find_path(G, i, j)\n",
    "      if path is not None:\n",
    "        if i in G[path[-1]]:\n",
    "          return False\n",
    "  return True\n",
    "\n",
    "# Test cases\n",
    "print(is_DAG(G_example)) # Should output True\n",
    "print(is_DAG(G_fig136)) # Should output False"
   ]
  },
  {
   "attachments": {},
   "cell_type": "markdown",
   "metadata": {},
   "source": [
    "**Exercise 10 (challenge).**\n",
    "Write a program based on the proof of Euler's theorem (p.163–164) that finds an Eulerian circuit in any finite connected undirected graph encoded as a dictionary of adjacency lists, or `None` if it does not have one."
   ]
  },
  {
   "cell_type": "code",
   "execution_count": 72,
   "metadata": {},
   "outputs": [
    {
     "name": "stdout",
     "output_type": "stream",
     "text": [
      "['a', 'b', 'f', 'e', 'a', 'c', 'a', 'b', 'f', 'e', 'd', 'c', 'g', 'a', 'b', 'f', 'g']\n",
      "None\n"
     ]
    }
   ],
   "source": [
    "# This solution does not work\n",
    "def eulerian_circuit_by_proof(G):\n",
    "    eulerian_circuit = []\n",
    "    for i in G:\n",
    "        if len(G[i]) % 2 != 0:\n",
    "            return None\n",
    "        path = find_path(G, i, G[i][-1])\n",
    "        path.append(i)\n",
    "        if len(path) % 2 != 0:\n",
    "            if i not in eulerian_circuit:\n",
    "                eulerian_circuit.extend(path)\n",
    "    return eulerian_circuit\n",
    "\n",
    "# Test cases\n",
    "G_fig1621 = {\n",
    "  'a' : ['b', 'c', 'g', 'e'],\n",
    "  'b' : ['a', 'f'],\n",
    "  'c' : ['a', 'f', 'e', 'd'],\n",
    "  'd' : ['c', 'e'],\n",
    "  'e' : ['a', 'f', 'd', 'c'],\n",
    "  'f' : ['g', 'e', 'b', 'c'],\n",
    "  'g' : ['a', 'f'],\n",
    "}\n",
    "print(eulerian_circuit_by_proof(G_fig1621))\n",
    "#print(eulerian_circuit_by_proof(G_example))\n",
    "print(eulerian_circuit_by_proof(G_fig136))"
   ]
  }
 ],
 "metadata": {
  "kernelspec": {
   "display_name": "Python 3",
   "language": "python",
   "name": "python3"
  },
  "language_info": {
   "codemirror_mode": {
    "name": "ipython",
    "version": 3
   },
   "file_extension": ".py",
   "mimetype": "text/x-python",
   "name": "python",
   "nbconvert_exporter": "python",
   "pygments_lexer": "ipython3",
   "version": "3.10.10"
  },
  "orig_nbformat": 4,
  "vscode": {
   "interpreter": {
    "hash": "b0fa6594d8f4cbf19f97940f81e996739fb7646882a419484c72d19e05852a7e"
   }
  }
 },
 "nbformat": 4,
 "nbformat_minor": 2
}
